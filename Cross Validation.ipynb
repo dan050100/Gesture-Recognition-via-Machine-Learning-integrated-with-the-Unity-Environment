{
 "cells": [
  {
   "cell_type": "markdown",
   "metadata": {},
   "source": [
    "# Cross validation methods\n",
    "#### Importation of resources:"
   ]
  },
  {
   "cell_type": "code",
   "execution_count": 1,
   "metadata": {},
   "outputs": [],
   "source": [
    "from sklearn.model_selection import StratifiedKFold, KFold, train_test_split, RepeatedStratifiedKFold\n",
    "import numpy as np\n",
    "from sklearn.datasets import load_iris, load_breast_cancer\n",
    "from sklearn.ensemble import RandomForestClassifier\n",
    "from sklearn.naive_bayes import GaussianNB\n",
    "\n",
    "seed=123\n"
   ]
  },
  {
   "cell_type": "markdown",
   "metadata": {},
   "source": [
    "#### Loading the breast cancer dataset and storing the appropriate values for X and y in their corresponding variables.\n",
    "+ rf = Random forest classifier\n",
    "+ nb = Naive Bayes classifier"
   ]
  },
  {
   "cell_type": "code",
   "execution_count": 2,
   "metadata": {},
   "outputs": [],
   "source": [
    "X,y = load_breast_cancer(return_X_y=True)\n",
    "\n",
    "rf = RandomForestClassifier(random_state=seed)\n",
    "nb = GaussianNB()"
   ]
  },
  {
   "cell_type": "markdown",
   "metadata": {},
   "source": [
    "## Holdout cross validation\n",
    "#### The dataset is split with 80% as training data and the other 20% as testing data."
   ]
  },
  {
   "cell_type": "code",
   "execution_count": 3,
   "metadata": {},
   "outputs": [],
   "source": [
    "X_train, X_test, y_train, y_test = train_test_split(X, y, test_size=0.2, random_state=seed)"
   ]
  },
  {
   "cell_type": "markdown",
   "metadata": {},
   "source": [
    "#### The random forest classifier is trained using the X_train and y_train values before applying it to testing data where the percentage returned is how well the classifier can correctly predict y_test using X_test "
   ]
  },
  {
   "cell_type": "code",
   "execution_count": 4,
   "metadata": {},
   "outputs": [
    {
     "name": "stdout",
     "output_type": "stream",
     "text": [
      "The fitting of the model to the data: 1.000 \n",
      "\n",
      "The accuracy of the model: 0.991 \n"
     ]
    }
   ],
   "source": [
    "rf.fit(X_train, y_train)\n",
    "print(\"The fitting of the model to the data: %.3f \" % rf.score(X_train, y_train))\n",
    "print(\"\\nThe accuracy of the model: %.3f \" % rf.score(X_test, y_test))"
   ]
  },
  {
   "cell_type": "markdown",
   "metadata": {},
   "source": [
    "## K-fold Cross validation\n",
    "+ kf = the k fold algorithm\n",
    "+ n_split = the number of splits, in this case there are 10 splits\n",
    "+ shuffle = data is shuffled when set to True\n",
    "+ kfScoring = the list of accuracies in each fold  "
   ]
  },
  {
   "cell_type": "code",
   "execution_count": 5,
   "metadata": {},
   "outputs": [],
   "source": [
    "kfScoring=[]\n",
    "kf = KFold(n_splits=10, shuffle=True, random_state=seed)"
   ]
  },
  {
   "cell_type": "markdown",
   "metadata": {},
   "source": [
    "#### The training of the random forest using K-fold cross validation along with the outputted accuracies. "
   ]
  },
  {
   "cell_type": "code",
   "execution_count": 7,
   "metadata": {},
   "outputs": [
    {
     "name": "stdout",
     "output_type": "stream",
     "text": [
      "Fold 1: Accuracy: 0.982\n",
      "Fold 2: Accuracy: 1.000\n",
      "Fold 3: Accuracy: 0.965\n",
      "Fold 4: Accuracy: 0.982\n",
      "Fold 5: Accuracy: 0.930\n",
      "Fold 6: Accuracy: 0.930\n",
      "Fold 7: Accuracy: 0.982\n",
      "Fold 8: Accuracy: 0.947\n",
      "Fold 9: Accuracy: 0.982\n",
      "Fold 10: Accuracy: 0.893\n",
      "\n",
      "The fitting of the model to the data: 1.000 \n",
      "\n",
      "Averaged Accuracy: 0.959 \n",
      "Standard Deviation: 0.032\n"
     ]
    }
   ],
   "source": [
    "for k, (train_index, test_index) in enumerate(kf.split(X)):\n",
    "    X_train, X_test = X[train_index], X[test_index]\n",
    "    y_train, y_test = y[train_index], y[test_index]\n",
    "\n",
    "    rf.fit(X_train, y_train)\n",
    "    res = rf.score(X_test, y_test)\n",
    "    kfScoring.append(res)\n",
    "    \n",
    "    print(\"Fold %d: Accuracy: %.3f\" % (k+1, res))\n",
    "\n",
    "print(\"\\nThe fitting of the model to the data: %.3f \" % rf.score(X_train, y_train))\n",
    "print(\"\\nAveraged Accuracy: %.3f \\nStandard Deviation: %.3f\" % (np.mean(kfScoring), np.std(kfScoring)))"
   ]
  },
  {
   "cell_type": "markdown",
   "metadata": {},
   "source": [
    "## Stratified K-fold cross validation\n",
    "+ skf = the stratified k fold algorithm\n",
    "+ n_split = the number of splits, in this case there are 10 splits\n",
    "+ shuffle = data is shuffled when set to True\n",
    "+ skfScoring = the list of accuracies in each fold"
   ]
  },
  {
   "cell_type": "code",
   "execution_count": 8,
   "metadata": {},
   "outputs": [],
   "source": [
    "skfScoring=[]\n",
    "skf = StratifiedKFold(n_splits=10, shuffle=True, random_state=seed)"
   ]
  },
  {
   "cell_type": "markdown",
   "metadata": {},
   "source": [
    "#### The training of the random forest using stratified K-fold cross validation along with the outputted accuracies."
   ]
  },
  {
   "cell_type": "code",
   "execution_count": 9,
   "metadata": {},
   "outputs": [
    {
     "name": "stdout",
     "output_type": "stream",
     "text": [
      "Fold 1: Accuracy: 0.930\n",
      "Fold 2: Accuracy: 0.947\n",
      "Fold 3: Accuracy: 0.947\n",
      "Fold 4: Accuracy: 0.965\n",
      "Fold 5: Accuracy: 1.000\n",
      "Fold 6: Accuracy: 0.982\n",
      "Fold 7: Accuracy: 0.947\n",
      "Fold 8: Accuracy: 0.982\n",
      "Fold 9: Accuracy: 0.965\n",
      "Fold 10: Accuracy: 1.000\n",
      "\n",
      "The fitting of the model to the data: 1.000 \n",
      "\n",
      "Averaged Accuracy: 0.967 \n",
      "Standard Deviation: 0.023\n"
     ]
    }
   ],
   "source": [
    "for k, (train_index, test_index) in enumerate(skf.split(X,y)):\n",
    "    X_train, X_test = X[train_index], X[test_index]\n",
    "    y_train, y_test = y[train_index], y[test_index]\n",
    "\n",
    "    rf.fit(X_train, y_train)\n",
    "    res = rf.score(X_test, y_test)\n",
    "    skfScoring.append(res)\n",
    "    \n",
    "    print(\"Fold %d: Accuracy: %.3f\" % (k+1, res))\n",
    "\n",
    "print(\"\\nThe fitting of the model to the data: %.3f \" % rf.score(X_train, y_train))\n",
    "print(\"\\nAveraged Accuracy: %.3f \\nStandard Deviation: %.3f\" % (np.mean(skfScoring), np.std(skfScoring)))"
   ]
  },
  {
   "cell_type": "markdown",
   "metadata": {},
   "source": [
    "## Repeated Stratified K-Fold Cross Validation\n",
    "+ rskf = the repeated stratified k fold algorithm\n",
    "+ n_split = the number of splits, in this case there are 10 splits\n",
    "+ n_repeats = the number of time the approach is repeated\n",
    "+ rskfScoring = the list of accuracies in each fold"
   ]
  },
  {
   "cell_type": "code",
   "execution_count": 10,
   "metadata": {},
   "outputs": [],
   "source": [
    "rskfScoring = []\n",
    "rskf = RepeatedStratifiedKFold(n_splits=10, n_repeats=3, random_state=seed)"
   ]
  },
  {
   "cell_type": "code",
   "execution_count": 11,
   "metadata": {},
   "outputs": [
    {
     "name": "stdout",
     "output_type": "stream",
     "text": [
      "Fold 1: Accuracy: 0.930\n",
      "Fold 2: Accuracy: 0.947\n",
      "Fold 3: Accuracy: 0.947\n",
      "Fold 4: Accuracy: 0.965\n",
      "Fold 5: Accuracy: 1.000\n",
      "Fold 6: Accuracy: 0.982\n",
      "Fold 7: Accuracy: 0.947\n",
      "Fold 8: Accuracy: 0.982\n",
      "Fold 9: Accuracy: 0.965\n",
      "Fold 10: Accuracy: 1.000\n",
      "Fold 11: Accuracy: 1.000\n",
      "Fold 12: Accuracy: 0.982\n",
      "Fold 13: Accuracy: 0.912\n",
      "Fold 14: Accuracy: 0.912\n",
      "Fold 15: Accuracy: 0.965\n",
      "Fold 16: Accuracy: 0.982\n",
      "Fold 17: Accuracy: 0.982\n",
      "Fold 18: Accuracy: 0.965\n",
      "Fold 19: Accuracy: 0.982\n",
      "Fold 20: Accuracy: 0.964\n",
      "Fold 21: Accuracy: 0.965\n",
      "Fold 22: Accuracy: 0.947\n",
      "Fold 23: Accuracy: 0.982\n",
      "Fold 24: Accuracy: 0.947\n",
      "Fold 25: Accuracy: 0.965\n",
      "Fold 26: Accuracy: 0.947\n",
      "Fold 27: Accuracy: 0.930\n",
      "Fold 28: Accuracy: 0.965\n",
      "Fold 29: Accuracy: 0.982\n",
      "Fold 30: Accuracy: 0.982\n",
      "\n",
      "The fitting of the model to the data: 1.000 \n",
      "\n",
      "Averaged Accuracy: 0.964 \n",
      "Standard Deviation: 0.023\n"
     ]
    }
   ],
   "source": [
    "for k, (train_index, test_index) in enumerate(rskf.split(X,y)):\n",
    "    X_train, X_test = X[train_index], X[test_index]\n",
    "    y_train, y_test = y[train_index], y[test_index]\n",
    "\n",
    "    rf.fit(X_train, y_train)\n",
    "    res = rf.score(X_test, y_test)\n",
    "    rskfScoring.append(res)\n",
    "    \n",
    "    print(\"Fold %d: Accuracy: %.3f\" % (k+1, res))\n",
    "\n",
    "print(\"\\nThe fitting of the model to the data: %.3f \" % rf.score(X_train, y_train))\n",
    "print(\"\\nAveraged Accuracy: %.3f \\nStandard Deviation: %.3f\" % (np.mean(rskfScoring), np.std(rskfScoring)))"
   ]
  }
 ],
 "metadata": {
  "kernelspec": {
   "display_name": "Python 3",
   "language": "python",
   "name": "python3"
  },
  "language_info": {
   "codemirror_mode": {
    "name": "ipython",
    "version": 3
   },
   "file_extension": ".py",
   "mimetype": "text/x-python",
   "name": "python",
   "nbconvert_exporter": "python",
   "pygments_lexer": "ipython3",
   "version": "3.8.5"
  }
 },
 "nbformat": 4,
 "nbformat_minor": 4
}
