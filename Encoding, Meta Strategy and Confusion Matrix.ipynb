{
 "cells": [
  {
   "cell_type": "markdown",
   "metadata": {},
   "source": [
    "# Encoding\n",
    "Encoding is required for some classifiers as they cannot handle categorical values and therefore must be converted into a numerical format.\n"
   ]
  },
  {
   "cell_type": "markdown",
   "metadata": {},
   "source": [
    "#### Ordinal Encoder\n",
    "+ OrdEnc used to encode labels (the categories variable).\n",
    "+ fit_transform used to fit the encoder to the categories and encode them all in one step.\n",
    "+ For loop used to show which encoded value represents each categorical Value \n"
   ]
  },
  {
   "cell_type": "code",
   "execution_count": 1,
   "metadata": {},
   "outputs": [
    {
     "name": "stdout",
     "output_type": "stream",
     "text": [
      "['Flower' 'Vegetable'] values are respectively assigned [0. 1.]\n",
      "['House' 'Vegetable'] values are respectively assigned [2. 1.]\n",
      "['Grass' 'Fruit'] values are respectively assigned [1. 0.]\n"
     ]
    }
   ],
   "source": [
    "from numpy import asarray\n",
    "from sklearn.preprocessing import OrdinalEncoder\n",
    "\n",
    "categories = asarray([[\"Flower\", \"Vegetable\"],[\"House\", \"Vegetable\"],[\"Grass\", \"Fruit\"]])\n",
    "ordEnc = OrdinalEncoder()\n",
    "\n",
    "transformed = ordEnc.fit_transform(categories)\n",
    "\n",
    "for x in range(len(transformed)):\n",
    "    print(str(categories[x]) + \" values are respectively assigned \" + str(transformed[x]))   "
   ]
  },
  {
   "cell_type": "markdown",
   "metadata": {},
   "source": [
    "# \n",
    "#### Label Encoder\n",
    "+ LabelEncoder imported in order to encode labels.\n",
    "+ fit_transform used to fit the encoder to the categories and encode them all in one step.\n",
    "+ For loop used to show which encoded value represents each label"
   ]
  },
  {
   "cell_type": "code",
   "execution_count": 2,
   "metadata": {},
   "outputs": [
    {
     "name": "stdout",
     "output_type": "stream",
     "text": [
      "Flower label is assigned 0\n",
      "House label is assigned 2\n",
      "Grass label is assigned 1\n"
     ]
    }
   ],
   "source": [
    "from sklearn.preprocessing import LabelEncoder\n",
    "\n",
    "categories = asarray([\"Flower\", \"House\", \"Grass\"])\n",
    "lblEnc = LabelEncoder()\n",
    "\n",
    "transformed = lblEnc.fit_transform(categories)\n",
    "\n",
    "for x in range(len(transformed)):\n",
    "    print(str(categories[x]) + \" label is assigned \" + str(transformed[x])) "
   ]
  },
  {
   "cell_type": "markdown",
   "metadata": {},
   "source": [
    "# \n",
    "#### One Hot Encoder\n",
    "+ OneHotEncoder imported in order to encode labels.\n",
    "+ fit_transform used to fit the encoder to the categories and encode them all in one step.\n",
    "+ For loop used to show which encoded binary variable represents each label\n"
   ]
  },
  {
   "cell_type": "code",
   "execution_count": 3,
   "metadata": {},
   "outputs": [
    {
     "name": "stdout",
     "output_type": "stream",
     "text": [
      "['Flower'] label is assigned [1. 0. 0.]\n",
      "['House'] label is assigned [0. 0. 1.]\n",
      "['Grass'] label is assigned [0. 1. 0.]\n"
     ]
    }
   ],
   "source": [
    "from sklearn.preprocessing import OneHotEncoder\n",
    "\n",
    "categories = asarray([[\"Flower\"], [\"House\"], [\"Grass\"]])\n",
    "\n",
    "ohe = OneHotEncoder(sparse=False)\n",
    "transformed = ohe.fit_transform(categories)\n",
    "\n",
    "for x in range(len(transformed)):\n",
    "    print(str(categories[x]) + \" label is assigned \" + str(transformed[x])) "
   ]
  },
  {
   "cell_type": "markdown",
   "metadata": {},
   "source": [
    "#### The first bit of the one hot encoder is dropped in the following cell:"
   ]
  },
  {
   "cell_type": "code",
   "execution_count": 4,
   "metadata": {},
   "outputs": [
    {
     "name": "stdout",
     "output_type": "stream",
     "text": [
      "['Flower'] label is assigned [0. 0.]\n",
      "['House'] label is assigned [0. 1.]\n",
      "['Grass'] label is assigned [1. 0.]\n"
     ]
    }
   ],
   "source": [
    "ohe = OneHotEncoder(sparse=False, drop='first')\n",
    "transformed = ohe.fit_transform(categories)\n",
    "\n",
    "for x in range(len(transformed)):\n",
    "    print(str(categories[x]) + \" label is assigned \" + str(transformed[x])) "
   ]
  },
  {
   "cell_type": "markdown",
   "metadata": {},
   "source": [
    "# \n",
    "# \n",
    "# OVR meta-strategy"
   ]
  },
  {
   "cell_type": "code",
   "execution_count": 6,
   "metadata": {},
   "outputs": [
    {
     "name": "stdout",
     "output_type": "stream",
     "text": [
      "The predicted labels [2 1 0 2 1 0 2 0 2 2 1 0 2 0 0 0 2 1 2 1 0 1 0 1 0 2 1 1 2 1 1 2 2 0 2 0 2\n",
      " 2 1 1 1 2 2 0 1 0 1 0 1 0 1 0 2 1 0 1 0 1 2 1 1 2 2 1 0 1 0 2 1 0 1 0 1 1\n",
      " 2 0 1 2 1 1 2 2 0 2 1 1 2 1 2 2 2 2 0 2 0 2 2 1 0 2]\n",
      "\n",
      "The actual labels [2 1 0 2 1 2 2 0 2 2 0 0 1 0 0 0 2 1 2 1 0 1 2 1 2 2 0 0 2 1 1 2 2 2 2 0 2\n",
      " 1 1 0 2 2 2 0 1 0 1 1 1 2 1 2 2 2 1 1 0 0 1 0 1 2 2 0 2 1 1 2 1 0 1 0 1 1\n",
      " 2 0 1 2 2 1 2 2 0 1 0 1 2 1 2 1 2 2 1 2 0 2 2 1 0 2]\n",
      "\n",
      "The accuracy is: 0.73\n"
     ]
    }
   ],
   "source": [
    "# logistic regression for multi-class classification using a one-vs-rest\n",
    "from sklearn.datasets import make_classification\n",
    "from sklearn.linear_model import LogisticRegression\n",
    "from sklearn.multiclass import OneVsRestClassifier\n",
    "from sklearn.model_selection import train_test_split\n",
    "\n",
    "# make a multi class (3 classes) classification problem with 10 observations and 5 features (3 informative and 2 redundant)\n",
    "X, y = make_classification(n_samples=500, n_features=5, n_informative=3, n_redundant=2, n_classes=3, random_state=123)\n",
    "\n",
    "# splitting the dataset into 80% training and 20% testing\n",
    "X_train, X_test, y_train, y_test = train_test_split(X, y, test_size=0.2, random_state=123)\n",
    "\n",
    "# define model\n",
    "model = LogisticRegression()\n",
    "\n",
    "# define the ovr strategy\n",
    "ovr = OneVsRestClassifier(model)\n",
    "\n",
    "# fit model\n",
    "ovr.fit(X_train, y_train)\n",
    "\n",
    "# make predictions\n",
    "yhat = ovr.predict(X_test)\n",
    "\n",
    "print(\"The predicted labels\", yhat)\n",
    "print(\"\\nThe actual labels\",y_test)\n",
    "\n",
    "print(\"\\nThe accuracy is:\", ovr.score(X_test, y_test))"
   ]
  },
  {
   "cell_type": "code",
   "execution_count": 7,
   "metadata": {},
   "outputs": [
    {
     "name": "stdout",
     "output_type": "stream",
     "text": [
      "The predicted labels [2 1 0 2 1 0 2 0 2 2 1 0 2 0 0 0 2 1 2 1 0 1 0 1 0 2 1 1 2 1 1 2 2 0 2 0 2\n",
      " 2 1 1 1 2 2 0 1 0 1 0 1 0 1 0 2 1 0 1 0 1 2 1 1 2 2 1 0 1 0 2 1 0 1 0 1 1\n",
      " 2 0 1 2 1 1 2 2 0 2 1 1 2 1 2 2 2 2 0 2 0 2 2 1 0 2]\n",
      "\n",
      "The actual labels [2 1 0 2 1 2 2 0 2 2 0 0 1 0 0 0 2 1 2 1 0 1 2 1 2 2 0 0 2 1 1 2 2 2 2 0 2\n",
      " 1 1 0 2 2 2 0 1 0 1 1 1 2 1 2 2 2 1 1 0 0 1 0 1 2 2 0 2 1 1 2 1 0 1 0 1 1\n",
      " 2 0 1 2 2 1 2 2 0 1 0 1 2 1 2 1 2 2 1 2 0 2 2 1 0 2]\n",
      "\n",
      "The accuracy is: 0.73\n"
     ]
    }
   ],
   "source": [
    "# logistic regression for multi-class classification using built-in one-vs-rest\n",
    "from sklearn.linear_model import LogisticRegression\n",
    "\n",
    "# define dataset\n",
    "X, y = make_classification(n_samples=500, n_features=5, n_informative=3, n_redundant=2, n_classes=3, random_state=123)\n",
    "\n",
    "# splitting the dataset into 80% training and 20% testing\n",
    "X_train, X_test, y_train, y_test = train_test_split(X, y, test_size=0.2, random_state=123)\n",
    "\n",
    "# define model\n",
    "model = LogisticRegression(multi_class='ovr')\n",
    "\n",
    "# fit model\n",
    "model.fit(X_train, y_train)\n",
    "\n",
    "# make predictions\n",
    "yhat = model.predict(X_test)\n",
    "\n",
    "print(\"The predicted labels\", yhat)\n",
    "print(\"\\nThe actual labels\",y_test)\n",
    "\n",
    "print(\"\\nThe accuracy is:\", model.score(X_test, y_test))"
   ]
  },
  {
   "cell_type": "markdown",
   "metadata": {},
   "source": [
    "# \n",
    "# \n",
    "# Confusion Matrix"
   ]
  },
  {
   "cell_type": "code",
   "execution_count": 8,
   "metadata": {},
   "outputs": [
    {
     "data": {
      "text/plain": [
       "<AxesSubplot:>"
      ]
     },
     "execution_count": 8,
     "metadata": {},
     "output_type": "execute_result"
    },
    {
     "data": {
      "image/png": "[encoded data removed]",
      "text/plain": [
       "<Figure size 720x504 with 2 Axes>"
      ]
     },
     "metadata": {
      "needs_background": "light"
     },
     "output_type": "display_data"
    }
   ],
   "source": [
    "# 1 = 'Flower'\n",
    "# 2 = 'House'\n",
    "# 3 = 'Grass'\n",
    "\n",
    "from sklearn.metrics import confusion_matrix\n",
    "import matplotlib.pyplot as plt\n",
    "import seaborn as sn\n",
    "import pandas as pd\n",
    "\n",
    "# The expected outcomes and the predicted value respectively \n",
    "expect  = [2,3,1,1,2,3,1,2,3,3]\n",
    "predict = [2,1,1,3,2,1,1,2,1,3]\n",
    "\n",
    "# The initialisation of the confusion matrix\n",
    "C_matrix = confusion_matrix(expect, predict)\n",
    "\n",
    "# Converting it into a dataframe so it can be represented using seaborn\n",
    "df_cm = pd.DataFrame(C_matrix)\n",
    "plt.figure(figsize = (10,7))\n",
    "sn.heatmap(df_cm, annot=True, cmap=\"YlGnBu\", annot_kws={\"size\": 16})\n"
   ]
  },
  {
   "cell_type": "code",
   "execution_count": 9,
   "metadata": {},
   "outputs": [
    {
     "data": {
      "text/plain": [
       "<AxesSubplot:>"
      ]
     },
     "execution_count": 9,
     "metadata": {},
     "output_type": "execute_result"
    },
    {
     "data": {
      "image/png": "[encoded data removed]",
      "text/plain": [
       "<Figure size 720x504 with 2 Axes>"
      ]
     },
     "metadata": {
      "needs_background": "light"
     },
     "output_type": "display_data"
    }
   ],
   "source": [
    "# The expected outcomes and the predicted value respectively \n",
    "expect  = [2,1,1,3,2,1,1,2,1,3]\n",
    "predict = [2,1,1,3,2,1,1,2,1,3]\n",
    "\n",
    "# The initialisation of the confusion matrix\n",
    "C_matrix = confusion_matrix(expect, predict)\n",
    "\n",
    "# Converting it into a dataframe so it can be represented using seaborn\n",
    "df_cm = pd.DataFrame(C_matrix)\n",
    "plt.figure(figsize = (10,7))\n",
    "sn.heatmap(df_cm, annot=True, cmap=\"YlGnBu\", annot_kws={\"size\": 16})\n"
   ]
  }
 ],
 "metadata": {
  "kernelspec": {
   "display_name": "Python 3",
   "language": "python",
   "name": "python3"
  },
  "language_info": {
   "codemirror_mode": {
    "name": "ipython",
    "version": 3
   },
   "file_extension": ".py",
   "mimetype": "text/x-python",
   "name": "python",
   "nbconvert_exporter": "python",
   "pygments_lexer": "ipython3",
   "version": "3.8.5"
  }
 },
 "nbformat": 4,
 "nbformat_minor": 4
}
