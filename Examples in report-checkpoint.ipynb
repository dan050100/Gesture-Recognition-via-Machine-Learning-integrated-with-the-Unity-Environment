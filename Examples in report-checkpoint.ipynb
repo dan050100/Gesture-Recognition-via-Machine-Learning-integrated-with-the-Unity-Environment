{
 "cells": [
  {
   "cell_type": "markdown",
   "metadata": {},
   "source": [
    "# Encoding"
   ]
  },
  {
   "cell_type": "code",
   "execution_count": 1,
   "metadata": {},
   "outputs": [
    {
     "name": "stdout",
     "output_type": "stream",
     "text": [
      "['Flower' 'Vegetable'] values are respectively assigned [0. 1.]\n",
      "['House' 'Vegetable'] values are respectively assigned [2. 1.]\n",
      "['Grass' 'Fruit'] values are respectively assigned [1. 0.]\n"
     ]
    }
   ],
   "source": [
    "# OrdinalEncoder imported in order to encode labels.\n",
    "# fit_transform used to fit the encoder to the categories\n",
    "# and encode them all in one step.\n",
    "# For loop used to show which encoded value represents \n",
    "# each categorical Value \n",
    "\n",
    "from numpy import asarray\n",
    "from sklearn.preprocessing import OrdinalEncoder\n",
    "\n",
    "categories = asarray([[\"Flower\", \"Vegetable\"],[\"House\", \"Vegetable\"],[\"Grass\", \"Fruit\"]])\n",
    "ordEnc = OrdinalEncoder()\n",
    "\n",
    "transformed = ordEnc.fit_transform(categories)\n",
    "\n",
    "for x in range(len(transformed)):\n",
    "    print(str(categories[x]) + \" values are respectively assigned \" + str(transformed[x]))   "
   ]
  },
  {
   "cell_type": "code",
   "execution_count": 2,
   "metadata": {},
   "outputs": [
    {
     "name": "stdout",
     "output_type": "stream",
     "text": [
      "Flower label is assigned 0\n",
      "House label is assigned 2\n",
      "Grass label is assigned 1\n"
     ]
    }
   ],
   "source": [
    "# LabelEncoder imported in order to encode labels.\n",
    "# fit_transform used to fit the encoder to the categories\n",
    "# and encode them all in one step.\n",
    "# For loop used to show which encoded value represents \n",
    "# each label\n",
    "\n",
    "from numpy import asarray\n",
    "from sklearn.preprocessing import LabelEncoder\n",
    "\n",
    "categories = asarray([\"Flower\", \"House\", \"Grass\"])\n",
    "lblEnc = LabelEncoder()\n",
    "\n",
    "transformed = lblEnc.fit_transform(categories)\n",
    "\n",
    "for x in range(len(transformed)):\n",
    "    print(str(categories[x]) + \" label is assigned \" + str(transformed[x])) "
   ]
  },
  {
   "cell_type": "code",
   "execution_count": 12,
   "metadata": {},
   "outputs": [
    {
     "name": "stdout",
     "output_type": "stream",
     "text": [
      "['Flower'] label is assigned [1. 0. 0.]\n",
      "['House'] label is assigned [0. 0. 1.]\n",
      "['Grass'] label is assigned [0. 1. 0.]\n"
     ]
    }
   ],
   "source": [
    "# OneHotEncoder imported in order to encode labels.\n",
    "# fit_transform used to fit the encoder to the categories\n",
    "# and encode them all in one step.\n",
    "# For loop used to show which encoded binary variable  \n",
    "# represents each label\n",
    "\n",
    "from numpy import asarray\n",
    "from sklearn.preprocessing import OneHotEncoder\n",
    "\n",
    "categories = asarray([[\"Flower\"], [\"House\"], [\"Grass\"]])\n",
    "\n",
    "ohe = OneHotEncoder(sparse=False)\n",
    "transformed = ohe.fit_transform(categories)\n",
    "\n",
    "for x in range(len(transformed)):\n",
    "    print(str(categories[x]) + \" label is assigned \" + str(transformed[x])) "
   ]
  },
  {
   "cell_type": "code",
   "execution_count": 18,
   "metadata": {},
   "outputs": [
    {
     "name": "stdout",
     "output_type": "stream",
     "text": [
      "['Flower'] label is assigned [0. 0.]\n",
      "['House'] label is assigned [0. 1.]\n",
      "['Grass'] label is assigned [1. 0.]\n"
     ]
    }
   ],
   "source": [
    "# OneHotEncoder imported in order to encode labels.\n",
    "# fit_transform used to fit the encoder to the categories\n",
    "# and encode them all in one step.\n",
    "# For loop used to show which encoded binary variable  \n",
    "# represents each label\n",
    "\n",
    "from numpy import asarray\n",
    "from sklearn.preprocessing import OneHotEncoder\n",
    "\n",
    "categories = asarray([[\"Flower\"], [\"House\"], [\"Grass\"]])\n",
    "\n",
    "ohe = OneHotEncoder(sparse=False, drop='first')\n",
    "transformed = ohe.fit_transform(categories)\n",
    "\n",
    "for x in range(len(transformed)):\n",
    "    print(str(categories[x]) + \" label is assigned \" + str(transformed[x])) "
   ]
  },
  {
   "cell_type": "code",
   "execution_count": null,
   "metadata": {},
   "outputs": [],
   "source": []
  },
  {
   "cell_type": "markdown",
   "metadata": {},
   "source": [
    "# OVR vs OVO"
   ]
  },
  {
   "cell_type": "code",
   "execution_count": 30,
   "metadata": {},
   "outputs": [
    {
     "name": "stdout",
     "output_type": "stream",
     "text": [
      "[1 0 0 1 0 0 0 0 1 1]\n"
     ]
    }
   ],
   "source": [
    "# logistic regression for multi-class classification using a one-vs-rest\n",
    "from sklearn.datasets import make_classification\n",
    "from sklearn.linear_model import LogisticRegression\n",
    "from sklearn.multiclass import OneVsRestClassifier\n",
    "# define dataset\n",
    "X, y = make_classification(n_samples=10, n_features=5, n_informative=3, n_redundant=2, n_classes=3, random_state=1)\n",
    "# define model\n",
    "model = LogisticRegression()\n",
    "# define the ovr strategy\n",
    "ovr = OneVsRestClassifier(model)\n",
    "# fit model\n",
    "ovr.fit(X, y)\n",
    "# make predictions\n",
    "yhat = ovr.predict(X)\n",
    "\n",
    "print(yhat)"
   ]
  },
  {
   "cell_type": "code",
   "execution_count": 24,
   "metadata": {},
   "outputs": [
    {
     "name": "stdout",
     "output_type": "stream",
     "text": [
      "[1 0 1 2 0 2 1 2 0 1 1 0 2 1 0 1 2 0 1 0 0 1 0 2 0 0 2 0 1 1 2 1 0 2 0 0 0\n",
      " 1 1 2 2 1 0 1 0 2 0 0 0 2 0 1 2 0 2 2 1 2 1 0 2 2 2 1 0 1 1 1 0 2 0 2 2 1\n",
      " 0 0 0 0 0 1 2 0 2 0 2 2 2 1 0 1 2 1 1 1 0 2 0 2 1 1 0 1 1 0 0 0 2 2 2 2 1\n",
      " 0 0 1 2 0 0 0 0 2 2 2 1 0 1 2 2 0 1 0 2 1 0 0 2 0 0 0 0 1 1 1 0 0 1 1 2 0\n",
      " 0 1 1 1 2 1 0 0 2 2 1 0 2 1 2 2 1 0 2 0 2 1 0 0 0 0 0 1 2 0 2 1 0 1 0 0 1\n",
      " 0 0 0 1 0 1 2 1 0 0 1 1 0 2 1 1 0 1 1 0 0 0 1 2 2 0 2 0 1 0 2 2 0 0 2 2 1\n",
      " 2 2 1 0 1 1 2 1 1 1 1 2 1 1 1 1 2 0 2 2 2 2 0 0 0 1 2 2 2 0 2 2 2 2 1 2 0\n",
      " 1 1 0 1 2 1 2 0 2 0 0 0 2 1 1 0 0 1 1 2 0 1 1 1 1 2 0 0 0 1 2 0 0 1 0 0 2\n",
      " 0 0 2 1 2 0 2 2 0 2 0 2 1 1 2 2 1 2 0 1 2 2 2 0 0 0 1 2 1 0 2 1 0 1 2 0 0\n",
      " 1 1 2 0 1 0 0 1 2 1 1 2 2 0 2 1 1 0 1 0 0 0 0 0 0 1 2 2 0 0 0 1 0 0 1 2 1\n",
      " 0 2 1 0 1 0 1 1 1 0 1 0 2 0 1 1 0 1 1 1 1 0 0 0 1 2 2 2 0 0 0 1 1 1 1 0 2\n",
      " 2 0 1 2 1 0 2 0 0 1 1 0 2 2 0 2 2 0 1 0 0 0 0 1 0 0 2 1 0 0 2 1 0 0 2 1 1\n",
      " 2 0 0 2 0 1 0 0 0 2 0 0 0 1 0 1 0 1 0 0 0 1 0 0 1 2 1 2 0 0 2 1 2 0 0 1 2\n",
      " 2 1 2 1 1 1 0 2 2 1 1 2 2 1 0 2 0 1 1 1 0 1 1 0 0 0 1 0 2 2 1 2 2 1 2 2 2\n",
      " 2 2 0 1 0 0 1 1 0 1 0 2 1 0 0 0 0 1 2 1 1 0 0 1 0 0 1 2 1 2 0 1 1 1 2 0 1\n",
      " 1 0 0 2 1 0 2 0 1 1 2 0 0 2 1 1 2 0 1 2 0 2 1 2 2 2 2 2 0 2 0 0 2 0 2 2 0\n",
      " 2 0 0 2 0 0 2 0 1 0 1 2 0 0 1 0 0 2 2 2 0 1 1 0 0 0 2 2 0 0 1 2 0 2 0 1 1\n",
      " 1 2 2 0 2 1 0 0 2 2 0 1 1 2 0 0 0 1 1 0 1 0 0 2 0 2 0 0 2 1 2 2 2 2 1 1 1\n",
      " 2 0 1 0 0 2 0 1 0 0 0 0 2 0 0 1 1 0 0 1 0 0 2 1 1 2 0 0 2 2 0 0 1 1 2 1 0\n",
      " 2 2 2 0 0 2 0 0 2 1 0 2 2 0 0 1 0 1 0 1 1 2 1 0 0 1 0 1 1 0 1 1 1 2 1 2 1\n",
      " 0 1 1 2 0 1 0 0 0 0 1 1 2 1 0 2 0 1 2 0 0 0 1 1 0 0 0 0 0 0 0 0 0 0 2 1 0\n",
      " 1 2 2 0 1 2 0 2 1 1 1 1 1 0 0 0 0 0 0 1 2 2 1 0 0 1 2 0 2 1 0 0 0 1 2 0 1\n",
      " 1 0 2 1 2 0 0 2 2 1 2 1 0 2 2 0 1 2 1 2 0 2 0 2 2 1 2 0 0 1 2 2 1 1 2 0 1\n",
      " 2 0 0 2 0 2 2 0 0 2 2 0 0 0 0 1 0 0 0 0 0 2 2 2 2 2 2 1 2 0 0 0 2 1 1 0 2\n",
      " 1 1 0 1 2 2 1 0 2 0 0 0 2 1 2 0 1 1 1 1 1 1 1 1 1 0 0 1 2 1 2 0 1 2 2 1 0\n",
      " 0 1 0 1 0 0 2 1 1 2 1 0 1 1 0 2 2 0 0 2 1 1 2 1 2 2 2 2 2 0 0 0 1 1 0 0 2\n",
      " 1 0 0 1 1 1 0 1 2 0 2 1 0 2 1 1 2 2 1 2 1 0 0 1 0 2 1 0 1 1 2 0 1 2 1 1 2\n",
      " 1]\n"
     ]
    }
   ],
   "source": [
    "# logistic regression for multi-class classification using built-in one-vs-rest\n",
    "from sklearn.datasets import make_classification\n",
    "from sklearn.linear_model import LogisticRegression\n",
    "# define dataset\n",
    "X, y = make_classification(n_samples=1000, n_features=10, n_informative=5, n_redundant=5, n_classes=3, random_state=1)\n",
    "# define model\n",
    "model = LogisticRegression(multi_class='ovr')\n",
    "# fit model\n",
    "model.fit(X, y)\n",
    "# make predictions\n",
    "yhat = model.predict(X)\n",
    "\n",
    "print(yhat)"
   ]
  },
  {
   "cell_type": "code",
   "execution_count": null,
   "metadata": {},
   "outputs": [],
   "source": []
  },
  {
   "cell_type": "markdown",
   "metadata": {},
   "source": [
    "# Confusion Matrix"
   ]
  },
  {
   "cell_type": "code",
   "execution_count": 108,
   "metadata": {},
   "outputs": [
    {
     "name": "stdout",
     "output_type": "stream",
     "text": [
      "[[2 0 1]\n",
      " [0 3 0]\n",
      " [3 0 1]]\n"
     ]
    },
    {
     "data": {
      "text/plain": [
       "<matplotlib.axes._subplots.AxesSubplot at 0x1faa4d09d48>"
      ]
     },
     "execution_count": 108,
     "metadata": {},
     "output_type": "execute_result"
    },
    {
     "data": {
      "image/png": "[encoded data removed]",
      "text/plain": [
       "<Figure size 720x504 with 2 Axes>"
      ]
     },
     "metadata": {
      "needs_background": "light"
     },
     "output_type": "display_data"
    }
   ],
   "source": [
    "# 1 = 'Flower'\n",
    "# 2 = 'House'\n",
    "# 3 = 'Grass'\n",
    "# outputs a confusion matrix\n",
    "\n",
    "from sklearn.metrics import confusion_matrix\n",
    "import matplotlib.pyplot as plt\n",
    "import seaborn as sn\n",
    "import pandas as pd\n",
    "\n",
    "expect  = [2,3,1,1,2,3,1,2,3,3]\n",
    "predict = [2,1,1,3,2,1,1,2,1,3]\n",
    "C_matrix = confusion_matrix(expect, predict)\n",
    "print(C_matrix)\n",
    "df_cm = pd.DataFrame(C_matrix)\n",
    "plt.figure(figsize = (10,7))\n",
    "sn.heatmap(df_cm, annot=True, cmap=\"YlGnBu\", annot_kws={\"size\": 16})\n"
   ]
  },
  {
   "cell_type": "code",
   "execution_count": 106,
   "metadata": {},
   "outputs": [
    {
     "data": {
      "text/plain": [
       "<matplotlib.axes._subplots.AxesSubplot at 0x1faa46a0908>"
      ]
     },
     "execution_count": 106,
     "metadata": {},
     "output_type": "execute_result"
    },
    {
     "data": {
      "image/png": "[encoded data removed]",
      "text/plain": [
       "<Figure size 720x504 with 2 Axes>"
      ]
     },
     "metadata": {
      "needs_background": "light"
     },
     "output_type": "display_data"
    }
   ],
   "source": [
    "# 1 = 'Flower'\n",
    "# 2 = 'House'\n",
    "# 3 = 'Grass'\n",
    "# outputs a confusion matrix\n",
    "\n",
    "from sklearn.metrics import confusion_matrix\n",
    "import matplotlib.pyplot as plt\n",
    "import seaborn as sn\n",
    "import pandas as pd\n",
    "\n",
    "expect  = [2,1,1,3,2,1,1,2,1,3]\n",
    "predict = [2,1,1,3,2,1,1,2,1,3]\n",
    "C_matrix = confusion_matrix(expect, predict)\n",
    "df_cm = pd.DataFrame(C_matrix)\n",
    "plt.figure(figsize = (10,7))\n",
    "sn.heatmap(df_cm, annot=True, cmap=\"YlGnBu\", annot_kws={\"size\": 16})\n"
   ]
  }
 ],
 "metadata": {
  "kernelspec": {
   "display_name": "Python 3",
   "language": "python",
   "name": "python3"
  },
  "language_info": {
   "codemirror_mode": {
    "name": "ipython",
    "version": 3
   },
   "file_extension": ".py",
   "mimetype": "text/x-python",
   "name": "python",
   "nbconvert_exporter": "python",
   "pygments_lexer": "ipython3",
   "version": "3.8.5"
  }
 },
 "nbformat": 4,
 "nbformat_minor": 4
}
