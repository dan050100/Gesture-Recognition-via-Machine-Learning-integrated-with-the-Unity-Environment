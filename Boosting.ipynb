{
 "cells": [
  {
   "cell_type": "markdown",
   "metadata": {},
   "source": [
    "# Boosting\n",
    "#### Importation of resources:"
   ]
  },
  {
   "cell_type": "code",
   "execution_count": 8,
   "metadata": {},
   "outputs": [],
   "source": [
    "from sklearn.datasets import load_wine\n",
    "from sklearn.metrics import confusion_matrix\n",
    "from sklearn.model_selection import KFold, train_test_split\n",
    "import pandas as pd\n",
    "import matplotlib.pyplot as plt\n",
    "import seaborn as sn\n",
    "import numpy as np\n",
    "import xgboost as xgb\n",
    "from sklearn.preprocessing import OneHotEncoder, LabelEncoder\n",
    "\n",
    "seed=123"
   ]
  },
  {
   "cell_type": "markdown",
   "metadata": {},
   "source": [
    "#### The wine dataset is loaded and the X and y variables within the dataset are stored in the same variables within this program. \n",
    "+ le = Label encoder used to encode the y variable\n",
    "+ train_test_split = splits the dataset into 90% training data and 10% testing data\n",
    "+ xgb_model = the XGBoost classifier\n",
    "+ kf = the k fold cross validation method\n",
    "+ xgbScore = the list of scores obtained within each fold by the XGBoost classifier"
   ]
  },
  {
   "cell_type": "code",
   "execution_count": 40,
   "metadata": {},
   "outputs": [],
   "source": [
    "X,y = load_wine(return_X_y=True)\n",
    "le = LabelEncoder()\n",
    "y = le.fit_transform(y)\n",
    "\n",
    "X_train, X_test, y_train, y_test = train_test_split(X, y, test_size=0.1, random_state=seed)\n",
    "\n",
    "xgb_model = xgb.XGBClassifier(use_label_encoder=False, objective=\"multi:softprob\", random_state=seed, eval_metric=\"merror\")\n",
    "kf = KFold(n_splits=10, random_state=seed, shuffle=True)\n",
    "xgbScore=[]"
   ]
  },
  {
   "cell_type": "markdown",
   "metadata": {},
   "source": [
    "#### Training the XGBoost classifier"
   ]
  },
  {
   "cell_type": "code",
   "execution_count": 41,
   "metadata": {},
   "outputs": [],
   "source": [
    "for train_index, test_index in kf.split(X):\n",
    "    X_train, X_test = X[train_index], X[test_index]\n",
    "    y_train, y_test = y[train_index], y[test_index]\n",
    "\n",
    "    xgb_model.fit(X_train, y_train)\n",
    "    res = xgb_model.score(X_test, y_test)\n",
    "    xgbScore.append(res)"
   ]
  },
  {
   "cell_type": "markdown",
   "metadata": {},
   "source": [
    "#### The list of accuracies, the Mean and the Standard deviation of the trained XGBoost classifier are outputted below:"
   ]
  },
  {
   "cell_type": "code",
   "execution_count": 42,
   "metadata": {},
   "outputs": [
    {
     "name": "stdout",
     "output_type": "stream",
     "text": [
      "XGB:\n",
      "[1.0, 1.0, 1.0, 1.0, 0.9444444444444444, 1.0, 0.8888888888888888, 1.0, 1.0, 0.8823529411764706]\n",
      "\n",
      "Standard Deviation = 0.0460\n",
      "Mean Value is = 0.9716\n"
     ]
    }
   ],
   "source": [
    "print(\"XGB:\")\n",
    "print(xgbScore)\n",
    "standar = np.std(xgbScore)\n",
    "print(\"\\nStandard Deviation = %0.4f\" % (standar))\n",
    "meanVal = np.mean(xgbScore)\n",
    "print(\"Mean Value is = %0.4f\" % (meanVal))"
   ]
  },
  {
   "cell_type": "markdown",
   "metadata": {},
   "source": [
    "### The score on unseen data\n",
    "+ score_unseen = The accuracy that is obtained of the XGBoost classifier classifying test data"
   ]
  },
  {
   "cell_type": "code",
   "execution_count": 45,
   "metadata": {},
   "outputs": [
    {
     "name": "stdout",
     "output_type": "stream",
     "text": [
      "0.8823529411764706\n"
     ]
    }
   ],
   "source": [
    "score_unseen = xgb_model.score(X_test, y_test)\n",
    "print(\"The score of the XGBoost classifier on unseen data:\", np.around((100*score_unseen),decimals=2),\"%\")"
   ]
  },
  {
   "cell_type": "markdown",
   "metadata": {},
   "source": [
    "### Confusion Matrix of the XGBoost classifier"
   ]
  },
  {
   "cell_type": "code",
   "execution_count": 43,
   "metadata": {},
   "outputs": [
    {
     "data": {
      "text/plain": [
       "<AxesSubplot:title={'center':'XGBoost Confusion Matrix'}>"
      ]
     },
     "execution_count": 43,
     "metadata": {},
     "output_type": "execute_result"
    },
    {
     "data": {
      "image/png": "[encoded data removed]",
      "text/plain": [
       "<Figure size 720x504 with 2 Axes>"
      ]
     },
     "metadata": {
      "needs_background": "light"
     },
     "output_type": "display_data"
    }
   ],
   "source": [
    "pred = xgb_model.predict(X_test)\n",
    "expect = y_test\n",
    "c_matrix = confusion_matrix(expect, pred)\n",
    "df_cm = pd.DataFrame(c_matrix)\n",
    "plt.figure(figsize=(10,7))\n",
    "plt.title('XGBoost Confusion Matrix')\n",
    "sn.heatmap(df_cm,annot=True, cmap=\"YlGnBu\", annot_kws={\"size\":16})\n"
   ]
  }
 ],
 "metadata": {
  "kernelspec": {
   "display_name": "Python 3",
   "language": "python",
   "name": "python3"
  },
  "language_info": {
   "codemirror_mode": {
    "name": "ipython",
    "version": 3
   },
   "file_extension": ".py",
   "mimetype": "text/x-python",
   "name": "python",
   "nbconvert_exporter": "python",
   "pygments_lexer": "ipython3",
   "version": "3.8.5"
  }
 },
 "nbformat": 4,
 "nbformat_minor": 4
}
